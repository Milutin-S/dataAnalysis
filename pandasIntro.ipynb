{
 "cells": [
  {
   "attachments": {},
   "cell_type": "markdown",
   "metadata": {},
   "source": [
    "# Pandas Introduction"
   ]
  },
  {
   "cell_type": "code",
   "execution_count": 2,
   "metadata": {},
   "outputs": [],
   "source": [
    "import numpy as np\n",
    "import pandas as pd"
   ]
  },
  {
   "attachments": {},
   "cell_type": "markdown",
   "metadata": {},
   "source": [
    "## Object creation"
   ]
  },
  {
   "attachments": {},
   "cell_type": "markdown",
   "metadata": {},
   "source": [
    "Create a Series by passing a list of values"
   ]
  },
  {
   "cell_type": "code",
   "execution_count": 3,
   "metadata": {},
   "outputs": [
    {
     "name": "stdout",
     "output_type": "stream",
     "text": [
      "0    1.0\n",
      "1    3.0\n",
      "2    4.0\n",
      "3    NaN\n",
      "4    6.0\n",
      "5    8.0\n",
      "dtype: float64\n"
     ]
    }
   ],
   "source": [
    "s = pd.Series([1, 3, 4, np.nan, 6, 8])\n",
    "print(s)"
   ]
  },
  {
   "attachments": {},
   "cell_type": "markdown",
   "metadata": {},
   "source": [
    "Creating a DataFrame by passing a NumPy array, with datetime index using data_range() and labeled columns"
   ]
  },
  {
   "cell_type": "code",
   "execution_count": 4,
   "metadata": {},
   "outputs": [
    {
     "name": "stdout",
     "output_type": "stream",
     "text": [
      "DatetimeIndex(['2013-01-01', '2013-01-02', '2013-01-03', '2013-01-04',\n",
      "               '2013-01-05', '2013-01-06'],\n",
      "              dtype='datetime64[ns]', freq='D')\n",
      "                   A         B         C         D\n",
      "2013-01-01  0.572308  0.920845  0.525894  0.931884\n",
      "2013-01-02  0.768634  0.644030  0.225700  0.727291\n",
      "2013-01-03  0.944050  0.748139  0.990291  0.381071\n",
      "2013-01-04  0.906818  0.965129  0.085156  0.251212\n",
      "2013-01-05  0.566287  0.397570  0.419578  0.817292\n",
      "2013-01-06  0.176934  0.703657  0.532107  0.751935\n"
     ]
    }
   ],
   "source": [
    "dates = pd.date_range(\"20130101\", periods=6)\n",
    "print(dates)\n",
    "df = pd.DataFrame(np.random.rand(6, 4), index=dates, columns=list(\"ABCD\"))\n",
    "print(df)"
   ]
  },
  {
   "attachments": {},
   "cell_type": "markdown",
   "metadata": {},
   "source": [
    "Creating a DataFrame by passing a dictionaty of objects that can be converted into a series-like structure: "
   ]
  },
  {
   "cell_type": "code",
   "execution_count": 5,
   "metadata": {},
   "outputs": [
    {
     "name": "stdout",
     "output_type": "stream",
     "text": [
      "     A          B    C  D      E    F\n",
      "0  1.0 2013-01-02  1.0  3   test  foo\n",
      "1  1.0 2013-01-02  1.0  3  train  foo\n",
      "2  1.0 2013-01-02  1.0  3   test  foo\n",
      "3  1.0 2013-01-02  1.0  3  train  foo\n",
      "----------------------------------------\n",
      "A           float64\n",
      "B    datetime64[ns]\n",
      "C           float32\n",
      "D             int32\n",
      "E          category\n",
      "F            object\n",
      "dtype: object\n"
     ]
    }
   ],
   "source": [
    "df2 = pd.DataFrame({\n",
    "    \"A\": 1.0,\n",
    "    \"B\": pd.Timestamp(\"20130102\"),\n",
    "    \"C\": pd.Series(1, index=list(range(4)), dtype=\"float32\"),\n",
    "    \"D\": np.array([3]* 4, dtype=\"int32\"),\n",
    "    \"E\": pd.Categorical([\"test\", \"train\", \"test\", \"train\"]),\n",
    "    \"F\": \"foo\",\n",
    "})\n",
    "print(df2)\n",
    "print('-'*40)\n",
    "print(df2.dtypes)"
   ]
  },
  {
   "attachments": {},
   "cell_type": "markdown",
   "metadata": {},
   "source": [
    "## Viewing data"
   ]
  },
  {
   "attachments": {},
   "cell_type": "markdown",
   "metadata": {},
   "source": [
    "Use:\n",
    "- DataFrame.head()\n",
    "- DataFrame.tail()\n",
    "<br>to view top and bottom rows respectively."
   ]
  },
  {
   "cell_type": "code",
   "execution_count": 6,
   "metadata": {},
   "outputs": [
    {
     "name": "stdout",
     "output_type": "stream",
     "text": [
      "                   A         B         C         D\n",
      "2013-01-01  0.572308  0.920845  0.525894  0.931884\n",
      "2013-01-02  0.768634  0.644030  0.225700  0.727291\n",
      "2013-01-03  0.944050  0.748139  0.990291  0.381071\n",
      "--------------------------------------------------\n",
      "                   A         B         C         D\n",
      "2013-01-04  0.906818  0.965129  0.085156  0.251212\n",
      "2013-01-05  0.566287  0.397570  0.419578  0.817292\n",
      "2013-01-06  0.176934  0.703657  0.532107  0.751935\n"
     ]
    }
   ],
   "source": [
    "print(df.head(3))\n",
    "print('-'*50)\n",
    "print(df.tail(3))"
   ]
  },
  {
   "attachments": {},
   "cell_type": "markdown",
   "metadata": {},
   "source": [
    "Display df index or columns"
   ]
  },
  {
   "cell_type": "code",
   "execution_count": 7,
   "metadata": {},
   "outputs": [
    {
     "name": "stdout",
     "output_type": "stream",
     "text": [
      "DatetimeIndex(['2013-01-01', '2013-01-02', '2013-01-03', '2013-01-04',\n",
      "               '2013-01-05', '2013-01-06'],\n",
      "              dtype='datetime64[ns]', freq='D')\n",
      "--------------------------------------------------\n",
      "Index(['A', 'B', 'C', 'D'], dtype='object')\n"
     ]
    }
   ],
   "source": [
    "print(df.index)\n",
    "print('-'*50)\n",
    "print(df.columns)"
   ]
  },
  {
   "attachments": {},
   "cell_type": "markdown",
   "metadata": {},
   "source": [
    "__Note:__ NumPy arrays have one dtype for the entire array, while pandas DataFrames have one dtype per column."
   ]
  },
  {
   "cell_type": "code",
   "execution_count": 8,
   "metadata": {},
   "outputs": [
    {
     "data": {
      "text/plain": [
       "array([[0.57230816, 0.92084451, 0.52589381, 0.93188374],\n",
       "       [0.76863413, 0.64403013, 0.2257003 , 0.72729084],\n",
       "       [0.94404968, 0.74813908, 0.99029115, 0.38107145],\n",
       "       [0.9068183 , 0.96512942, 0.08515571, 0.2512122 ],\n",
       "       [0.56628723, 0.39756973, 0.41957786, 0.81729219],\n",
       "       [0.17693361, 0.70365709, 0.53210651, 0.75193522]])"
      ]
     },
     "execution_count": 8,
     "metadata": {},
     "output_type": "execute_result"
    }
   ],
   "source": [
    "df.to_numpy()"
   ]
  },
  {
   "attachments": {},
   "cell_type": "markdown",
   "metadata": {},
   "source": [
    "__Note:__ DataFrame.to_numpy() does not include the index or column labels in the output."
   ]
  },
  {
   "cell_type": "code",
   "execution_count": 9,
   "metadata": {},
   "outputs": [
    {
     "data": {
      "text/plain": [
       "array([[1.0, Timestamp('2013-01-02 00:00:00'), 1.0, 3, 'test', 'foo'],\n",
       "       [1.0, Timestamp('2013-01-02 00:00:00'), 1.0, 3, 'train', 'foo'],\n",
       "       [1.0, Timestamp('2013-01-02 00:00:00'), 1.0, 3, 'test', 'foo'],\n",
       "       [1.0, Timestamp('2013-01-02 00:00:00'), 1.0, 3, 'train', 'foo']],\n",
       "      dtype=object)"
      ]
     },
     "execution_count": 9,
     "metadata": {},
     "output_type": "execute_result"
    }
   ],
   "source": [
    "df2.to_numpy()"
   ]
  },
  {
   "attachments": {},
   "cell_type": "markdown",
   "metadata": {},
   "source": [
    "Quick statistic summary"
   ]
  },
  {
   "cell_type": "code",
   "execution_count": 10,
   "metadata": {},
   "outputs": [
    {
     "data": {
      "text/html": [
       "<div>\n",
       "<style scoped>\n",
       "    .dataframe tbody tr th:only-of-type {\n",
       "        vertical-align: middle;\n",
       "    }\n",
       "\n",
       "    .dataframe tbody tr th {\n",
       "        vertical-align: top;\n",
       "    }\n",
       "\n",
       "    .dataframe thead th {\n",
       "        text-align: right;\n",
       "    }\n",
       "</style>\n",
       "<table border=\"1\" class=\"dataframe\">\n",
       "  <thead>\n",
       "    <tr style=\"text-align: right;\">\n",
       "      <th></th>\n",
       "      <th>A</th>\n",
       "      <th>B</th>\n",
       "      <th>C</th>\n",
       "      <th>D</th>\n",
       "    </tr>\n",
       "  </thead>\n",
       "  <tbody>\n",
       "    <tr>\n",
       "      <th>count</th>\n",
       "      <td>6.000000</td>\n",
       "      <td>6.000000</td>\n",
       "      <td>6.000000</td>\n",
       "      <td>6.000000</td>\n",
       "    </tr>\n",
       "    <tr>\n",
       "      <th>mean</th>\n",
       "      <td>0.655839</td>\n",
       "      <td>0.729895</td>\n",
       "      <td>0.463121</td>\n",
       "      <td>0.643448</td>\n",
       "    </tr>\n",
       "    <tr>\n",
       "      <th>std</th>\n",
       "      <td>0.283946</td>\n",
       "      <td>0.205247</td>\n",
       "      <td>0.312324</td>\n",
       "      <td>0.266423</td>\n",
       "    </tr>\n",
       "    <tr>\n",
       "      <th>min</th>\n",
       "      <td>0.176934</td>\n",
       "      <td>0.397570</td>\n",
       "      <td>0.085156</td>\n",
       "      <td>0.251212</td>\n",
       "    </tr>\n",
       "    <tr>\n",
       "      <th>25%</th>\n",
       "      <td>0.567792</td>\n",
       "      <td>0.658937</td>\n",
       "      <td>0.274170</td>\n",
       "      <td>0.467626</td>\n",
       "    </tr>\n",
       "    <tr>\n",
       "      <th>50%</th>\n",
       "      <td>0.670471</td>\n",
       "      <td>0.725898</td>\n",
       "      <td>0.472736</td>\n",
       "      <td>0.739613</td>\n",
       "    </tr>\n",
       "    <tr>\n",
       "      <th>75%</th>\n",
       "      <td>0.872272</td>\n",
       "      <td>0.877668</td>\n",
       "      <td>0.530553</td>\n",
       "      <td>0.800953</td>\n",
       "    </tr>\n",
       "    <tr>\n",
       "      <th>max</th>\n",
       "      <td>0.944050</td>\n",
       "      <td>0.965129</td>\n",
       "      <td>0.990291</td>\n",
       "      <td>0.931884</td>\n",
       "    </tr>\n",
       "  </tbody>\n",
       "</table>\n",
       "</div>"
      ],
      "text/plain": [
       "              A         B         C         D\n",
       "count  6.000000  6.000000  6.000000  6.000000\n",
       "mean   0.655839  0.729895  0.463121  0.643448\n",
       "std    0.283946  0.205247  0.312324  0.266423\n",
       "min    0.176934  0.397570  0.085156  0.251212\n",
       "25%    0.567792  0.658937  0.274170  0.467626\n",
       "50%    0.670471  0.725898  0.472736  0.739613\n",
       "75%    0.872272  0.877668  0.530553  0.800953\n",
       "max    0.944050  0.965129  0.990291  0.931884"
      ]
     },
     "execution_count": 10,
     "metadata": {},
     "output_type": "execute_result"
    }
   ],
   "source": [
    "df.describe()"
   ]
  },
  {
   "attachments": {},
   "cell_type": "markdown",
   "metadata": {},
   "source": [
    "Transpose your data"
   ]
  },
  {
   "cell_type": "code",
   "execution_count": 11,
   "metadata": {},
   "outputs": [
    {
     "data": {
      "text/html": [
       "<div>\n",
       "<style scoped>\n",
       "    .dataframe tbody tr th:only-of-type {\n",
       "        vertical-align: middle;\n",
       "    }\n",
       "\n",
       "    .dataframe tbody tr th {\n",
       "        vertical-align: top;\n",
       "    }\n",
       "\n",
       "    .dataframe thead th {\n",
       "        text-align: right;\n",
       "    }\n",
       "</style>\n",
       "<table border=\"1\" class=\"dataframe\">\n",
       "  <thead>\n",
       "    <tr style=\"text-align: right;\">\n",
       "      <th></th>\n",
       "      <th>2013-01-01</th>\n",
       "      <th>2013-01-02</th>\n",
       "      <th>2013-01-03</th>\n",
       "      <th>2013-01-04</th>\n",
       "      <th>2013-01-05</th>\n",
       "      <th>2013-01-06</th>\n",
       "    </tr>\n",
       "  </thead>\n",
       "  <tbody>\n",
       "    <tr>\n",
       "      <th>A</th>\n",
       "      <td>0.572308</td>\n",
       "      <td>0.768634</td>\n",
       "      <td>0.944050</td>\n",
       "      <td>0.906818</td>\n",
       "      <td>0.566287</td>\n",
       "      <td>0.176934</td>\n",
       "    </tr>\n",
       "    <tr>\n",
       "      <th>B</th>\n",
       "      <td>0.920845</td>\n",
       "      <td>0.644030</td>\n",
       "      <td>0.748139</td>\n",
       "      <td>0.965129</td>\n",
       "      <td>0.397570</td>\n",
       "      <td>0.703657</td>\n",
       "    </tr>\n",
       "    <tr>\n",
       "      <th>C</th>\n",
       "      <td>0.525894</td>\n",
       "      <td>0.225700</td>\n",
       "      <td>0.990291</td>\n",
       "      <td>0.085156</td>\n",
       "      <td>0.419578</td>\n",
       "      <td>0.532107</td>\n",
       "    </tr>\n",
       "    <tr>\n",
       "      <th>D</th>\n",
       "      <td>0.931884</td>\n",
       "      <td>0.727291</td>\n",
       "      <td>0.381071</td>\n",
       "      <td>0.251212</td>\n",
       "      <td>0.817292</td>\n",
       "      <td>0.751935</td>\n",
       "    </tr>\n",
       "  </tbody>\n",
       "</table>\n",
       "</div>"
      ],
      "text/plain": [
       "   2013-01-01  2013-01-02  2013-01-03  2013-01-04  2013-01-05  2013-01-06\n",
       "A    0.572308    0.768634    0.944050    0.906818    0.566287    0.176934\n",
       "B    0.920845    0.644030    0.748139    0.965129    0.397570    0.703657\n",
       "C    0.525894    0.225700    0.990291    0.085156    0.419578    0.532107\n",
       "D    0.931884    0.727291    0.381071    0.251212    0.817292    0.751935"
      ]
     },
     "execution_count": 11,
     "metadata": {},
     "output_type": "execute_result"
    }
   ],
   "source": [
    "df.T"
   ]
  },
  {
   "attachments": {},
   "cell_type": "markdown",
   "metadata": {},
   "source": [
    "Sort by an axis"
   ]
  },
  {
   "cell_type": "code",
   "execution_count": 12,
   "metadata": {},
   "outputs": [
    {
     "data": {
      "text/html": [
       "<div>\n",
       "<style scoped>\n",
       "    .dataframe tbody tr th:only-of-type {\n",
       "        vertical-align: middle;\n",
       "    }\n",
       "\n",
       "    .dataframe tbody tr th {\n",
       "        vertical-align: top;\n",
       "    }\n",
       "\n",
       "    .dataframe thead th {\n",
       "        text-align: right;\n",
       "    }\n",
       "</style>\n",
       "<table border=\"1\" class=\"dataframe\">\n",
       "  <thead>\n",
       "    <tr style=\"text-align: right;\">\n",
       "      <th></th>\n",
       "      <th>D</th>\n",
       "      <th>C</th>\n",
       "      <th>B</th>\n",
       "      <th>A</th>\n",
       "    </tr>\n",
       "  </thead>\n",
       "  <tbody>\n",
       "    <tr>\n",
       "      <th>2013-01-01</th>\n",
       "      <td>0.931884</td>\n",
       "      <td>0.525894</td>\n",
       "      <td>0.920845</td>\n",
       "      <td>0.572308</td>\n",
       "    </tr>\n",
       "    <tr>\n",
       "      <th>2013-01-02</th>\n",
       "      <td>0.727291</td>\n",
       "      <td>0.225700</td>\n",
       "      <td>0.644030</td>\n",
       "      <td>0.768634</td>\n",
       "    </tr>\n",
       "    <tr>\n",
       "      <th>2013-01-03</th>\n",
       "      <td>0.381071</td>\n",
       "      <td>0.990291</td>\n",
       "      <td>0.748139</td>\n",
       "      <td>0.944050</td>\n",
       "    </tr>\n",
       "    <tr>\n",
       "      <th>2013-01-04</th>\n",
       "      <td>0.251212</td>\n",
       "      <td>0.085156</td>\n",
       "      <td>0.965129</td>\n",
       "      <td>0.906818</td>\n",
       "    </tr>\n",
       "    <tr>\n",
       "      <th>2013-01-05</th>\n",
       "      <td>0.817292</td>\n",
       "      <td>0.419578</td>\n",
       "      <td>0.397570</td>\n",
       "      <td>0.566287</td>\n",
       "    </tr>\n",
       "    <tr>\n",
       "      <th>2013-01-06</th>\n",
       "      <td>0.751935</td>\n",
       "      <td>0.532107</td>\n",
       "      <td>0.703657</td>\n",
       "      <td>0.176934</td>\n",
       "    </tr>\n",
       "  </tbody>\n",
       "</table>\n",
       "</div>"
      ],
      "text/plain": [
       "                   D         C         B         A\n",
       "2013-01-01  0.931884  0.525894  0.920845  0.572308\n",
       "2013-01-02  0.727291  0.225700  0.644030  0.768634\n",
       "2013-01-03  0.381071  0.990291  0.748139  0.944050\n",
       "2013-01-04  0.251212  0.085156  0.965129  0.906818\n",
       "2013-01-05  0.817292  0.419578  0.397570  0.566287\n",
       "2013-01-06  0.751935  0.532107  0.703657  0.176934"
      ]
     },
     "execution_count": 12,
     "metadata": {},
     "output_type": "execute_result"
    }
   ],
   "source": [
    "df.sort_index(axis=1, ascending=False)"
   ]
  },
  {
   "attachments": {},
   "cell_type": "markdown",
   "metadata": {},
   "source": [
    "Sort by values"
   ]
  },
  {
   "cell_type": "code",
   "execution_count": 14,
   "metadata": {},
   "outputs": [
    {
     "data": {
      "text/html": [
       "<div>\n",
       "<style scoped>\n",
       "    .dataframe tbody tr th:only-of-type {\n",
       "        vertical-align: middle;\n",
       "    }\n",
       "\n",
       "    .dataframe tbody tr th {\n",
       "        vertical-align: top;\n",
       "    }\n",
       "\n",
       "    .dataframe thead th {\n",
       "        text-align: right;\n",
       "    }\n",
       "</style>\n",
       "<table border=\"1\" class=\"dataframe\">\n",
       "  <thead>\n",
       "    <tr style=\"text-align: right;\">\n",
       "      <th></th>\n",
       "      <th>A</th>\n",
       "      <th>B</th>\n",
       "      <th>C</th>\n",
       "      <th>D</th>\n",
       "    </tr>\n",
       "  </thead>\n",
       "  <tbody>\n",
       "    <tr>\n",
       "      <th>2013-01-05</th>\n",
       "      <td>0.566287</td>\n",
       "      <td>0.397570</td>\n",
       "      <td>0.419578</td>\n",
       "      <td>0.817292</td>\n",
       "    </tr>\n",
       "    <tr>\n",
       "      <th>2013-01-02</th>\n",
       "      <td>0.768634</td>\n",
       "      <td>0.644030</td>\n",
       "      <td>0.225700</td>\n",
       "      <td>0.727291</td>\n",
       "    </tr>\n",
       "    <tr>\n",
       "      <th>2013-01-06</th>\n",
       "      <td>0.176934</td>\n",
       "      <td>0.703657</td>\n",
       "      <td>0.532107</td>\n",
       "      <td>0.751935</td>\n",
       "    </tr>\n",
       "    <tr>\n",
       "      <th>2013-01-03</th>\n",
       "      <td>0.944050</td>\n",
       "      <td>0.748139</td>\n",
       "      <td>0.990291</td>\n",
       "      <td>0.381071</td>\n",
       "    </tr>\n",
       "    <tr>\n",
       "      <th>2013-01-01</th>\n",
       "      <td>0.572308</td>\n",
       "      <td>0.920845</td>\n",
       "      <td>0.525894</td>\n",
       "      <td>0.931884</td>\n",
       "    </tr>\n",
       "    <tr>\n",
       "      <th>2013-01-04</th>\n",
       "      <td>0.906818</td>\n",
       "      <td>0.965129</td>\n",
       "      <td>0.085156</td>\n",
       "      <td>0.251212</td>\n",
       "    </tr>\n",
       "  </tbody>\n",
       "</table>\n",
       "</div>"
      ],
      "text/plain": [
       "                   A         B         C         D\n",
       "2013-01-05  0.566287  0.397570  0.419578  0.817292\n",
       "2013-01-02  0.768634  0.644030  0.225700  0.727291\n",
       "2013-01-06  0.176934  0.703657  0.532107  0.751935\n",
       "2013-01-03  0.944050  0.748139  0.990291  0.381071\n",
       "2013-01-01  0.572308  0.920845  0.525894  0.931884\n",
       "2013-01-04  0.906818  0.965129  0.085156  0.251212"
      ]
     },
     "execution_count": 14,
     "metadata": {},
     "output_type": "execute_result"
    }
   ],
   "source": [
    "df.sort_values(by=\"B\")"
   ]
  },
  {
   "cell_type": "code",
   "execution_count": null,
   "metadata": {},
   "outputs": [],
   "source": []
  }
 ],
 "metadata": {
  "kernelspec": {
   "display_name": "venv_torch",
   "language": "python",
   "name": "python3"
  },
  "language_info": {
   "codemirror_mode": {
    "name": "ipython",
    "version": 3
   },
   "file_extension": ".py",
   "mimetype": "text/x-python",
   "name": "python",
   "nbconvert_exporter": "python",
   "pygments_lexer": "ipython3",
   "version": "3.8.0"
  },
  "orig_nbformat": 4,
  "vscode": {
   "interpreter": {
    "hash": "1fb5a3dc219abc637545f20cf3c6439775d32edf3144b40584563994fba47de5"
   }
  }
 },
 "nbformat": 4,
 "nbformat_minor": 2
}
